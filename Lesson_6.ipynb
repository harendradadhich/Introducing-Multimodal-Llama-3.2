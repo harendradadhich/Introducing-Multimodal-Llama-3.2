{
 "cells": [
  {
   "cell_type": "markdown",
   "metadata": {},
   "source": [
    "# Tool Calling Use Cases"
   ]
  },
  {
   "cell_type": "markdown",
   "metadata": {},
   "source": [
    "<p style=\"background-color:#fff6e4; padding:15px; border-width:3px; border-color:#f5ecda; border-style:solid; border-radius:6px\"> ⏳ <b>Note <code>(Kernel Starting)</code>:</b> This notebook takes about 30 seconds to be ready to use. You may start and watch the video while you wait.</p>"
   ]
  },
  {
   "cell_type": "code",
   "execution_count": 1,
   "metadata": {
    "height": 46
   },
   "outputs": [],
   "source": [
    "import warnings\n",
    "warnings.filterwarnings('ignore')"
   ]
  },
  {
   "cell_type": "markdown",
   "metadata": {},
   "source": [
    "## Get API keys"
   ]
  },
  {
   "cell_type": "code",
   "execution_count": 2,
   "metadata": {
    "height": 46
   },
   "outputs": [],
   "source": [
    "from utils import get_tavily_api_key\n",
    "TAVILY_API_KEY = get_tavily_api_key()"
   ]
  },
  {
   "cell_type": "markdown",
   "metadata": {},
   "source": [
    "## Load helper functions"
   ]
  },
  {
   "cell_type": "code",
   "execution_count": 3,
   "metadata": {
    "height": 63
   },
   "outputs": [],
   "source": [
    "from utils import llama31\n",
    "from utils import cprint\n",
    "import json"
   ]
  },
  {
   "cell_type": "markdown",
   "metadata": {},
   "source": [
    "<p style=\"background-color:#fff6ff; padding:15px; border-width:3px; border-color:#efe6ef; border-style:solid; border-radius:6px\"> 💻 &nbsp; <b>Access <code>requirements.txt</code> and <code>utils.py</code> files:</b> 1) click on the <em>\"File\"</em> option on the top menu of the notebook and then 2) click on <em>\"Open\"</em>. For more help, please see the <em>\"Appendix - Tips and Help\"</em> Lesson.</p>"
   ]
  },
  {
   "cell_type": "markdown",
   "metadata": {},
   "source": [
    "## Define tool system prompt"
   ]
  },
  {
   "cell_type": "code",
   "execution_count": 4,
   "metadata": {
    "height": 113
   },
   "outputs": [
    {
     "name": "stdout",
     "output_type": "stream",
     "text": [
      "02 April 2025\n"
     ]
    }
   ],
   "source": [
    "from datetime import datetime\n",
    "\n",
    "current_date = datetime.now()\n",
    "formatted_date = current_date.strftime(\"%d %B %Y\")\n",
    "print(formatted_date)"
   ]
  },
  {
   "cell_type": "code",
   "execution_count": 5,
   "metadata": {
    "height": 147
   },
   "outputs": [],
   "source": [
    "tool_system_prompt = f\"\"\"<|begin_of_text|><|start_header_id|>system<|end_header_id|>\n",
    "\n",
    "Environment: ipython\n",
    "Tools: brave_search, wolfram_alpha\n",
    "Cutting Knowledge Date: December 2023\n",
    "Today Date: {formatted_date}\n",
    "\"\"\""
   ]
  },
  {
   "cell_type": "markdown",
   "metadata": {},
   "source": [
    "## The brave_search built-in tool"
   ]
  },
  {
   "cell_type": "code",
   "execution_count": 6,
   "metadata": {
    "height": 113
   },
   "outputs": [],
   "source": [
    "prompt = tool_system_prompt + f\"\"\"<|eot_id|><|start_header_id|>user<|end_header_id|>\n",
    "\n",
    "What is the current weather in Menlo Park, California?\n",
    "\n",
    "<|eot_id|><|start_header_id|>assistant<|end_header_id|>\"\"\""
   ]
  },
  {
   "cell_type": "code",
   "execution_count": 7,
   "metadata": {
    "height": 46
   },
   "outputs": [
    {
     "name": "stdout",
     "output_type": "stream",
     "text": [
      "\n",
      "\n",
      "I'm not able to access real-time information. However, I can suggest some ways for you to find the current weather in Menlo Park, California:\n",
      "\n",
      "1. Check online weather websites: You can check websites like weather.com, accuweather.com, or wunderground.com for the current weather in Menlo Park, California.\n",
      "2. Use a search engine: You can type \"current weather in Menlo Park, California\" in a search engine like Google, and it will show you the current weather conditions.\n",
      "3. Check a weather app: You can download a weather app on your smartphone, such as Dark Sky or Weather Underground, which can provide you with the current weather conditions in Menlo Park, California.\n",
      "\n",
      "Please note that the weather can change quickly, so it's always a good idea to check the current weather conditions before heading out.\n"
     ]
    }
   ],
   "source": [
    "response = llama31(prompt)\n",
    "print(response)"
   ]
  },
  {
   "cell_type": "code",
   "execution_count": 8,
   "metadata": {
    "height": 113
   },
   "outputs": [],
   "source": [
    "no_tool_call_prompt = tool_system_prompt + f\"\"\"<|eot_id|><|start_header_id|>user<|end_header_id|>\n",
    "\n",
    "What is the population of California?\n",
    "\n",
    "<|eot_id|><|start_header_id|>assistant<|end_header_id|>\"\"\""
   ]
  },
  {
   "cell_type": "code",
   "execution_count": 9,
   "metadata": {
    "height": 62
   },
   "outputs": [
    {
     "name": "stdout",
     "output_type": "stream",
     "text": [
      "\n",
      "\n",
      "The population of California is approximately 39.5 million people, according to the 2020 United States Census. However, please note that this information may have changed slightly since the last census in 2020.\n"
     ]
    }
   ],
   "source": [
    "no_tool_call_response = llama31(no_tool_call_prompt)\n",
    "print(no_tool_call_response)"
   ]
  },
  {
   "cell_type": "markdown",
   "metadata": {},
   "source": [
    "### Calling the search API"
   ]
  },
  {
   "cell_type": "code",
   "execution_count": 10,
   "metadata": {
    "height": 113
   },
   "outputs": [
    {
     "name": "stdout",
     "output_type": "stream",
     "text": [
      "{\u001b[37m\u001b[39;49;00m\n",
      "\u001b[37m    \u001b[39;49;00m\u001b[94m\"query\"\u001b[39;49;00m:\u001b[37m \u001b[39;49;00m\u001b[33m\"current weather in Menlo Park, California\"\u001b[39;49;00m,\u001b[37m\u001b[39;49;00m\n",
      "\u001b[37m    \u001b[39;49;00m\u001b[94m\"follow_up_questions\"\u001b[39;49;00m:\u001b[37m \u001b[39;49;00m\u001b[34mnull\u001b[39;49;00m,\u001b[37m\u001b[39;49;00m\n",
      "\u001b[37m    \u001b[39;49;00m\u001b[94m\"answer\"\u001b[39;49;00m:\u001b[37m \u001b[39;49;00m\u001b[34mnull\u001b[39;49;00m,\u001b[37m\u001b[39;49;00m\n",
      "\u001b[37m    \u001b[39;49;00m\u001b[94m\"images\"\u001b[39;49;00m:\u001b[37m \u001b[39;49;00m[],\u001b[37m\u001b[39;49;00m\n",
      "\u001b[37m    \u001b[39;49;00m\u001b[94m\"results\"\u001b[39;49;00m:\u001b[37m \u001b[39;49;00m[\u001b[37m\u001b[39;49;00m\n",
      "\u001b[37m        \u001b[39;49;00m{\u001b[37m\u001b[39;49;00m\n",
      "\u001b[37m            \u001b[39;49;00m\u001b[94m\"title\"\u001b[39;49;00m:\u001b[37m \u001b[39;49;00m\u001b[33m\"Weather in Menlo Park, California\"\u001b[39;49;00m,\u001b[37m\u001b[39;49;00m\n",
      "\u001b[37m            \u001b[39;49;00m\u001b[94m\"url\"\u001b[39;49;00m:\u001b[37m \u001b[39;49;00m\u001b[33m\"https://www.weatherapi.com/\"\u001b[39;49;00m,\u001b[37m\u001b[39;49;00m\n",
      "\u001b[37m            \u001b[39;49;00m\u001b[94m\"content\"\u001b[39;49;00m:\u001b[37m \u001b[39;49;00m\u001b[33m\"{'location': {'name': 'Menlo Park', 'region': 'California', 'country': 'United States of America', 'lat': 37.4539, 'lon': -122.1811, 'tz_id': 'America/Los_Angeles', 'localtime_epoch': 1743579076, 'localtime': '2025-04-02 00:31'}, 'current': {'last_updated_epoch': 1743579000, 'last_updated': '2025-04-02 00:30', 'temp_c': 10.1, 'temp_f': 50.2, 'is_day': 0, 'condition': {'text': 'Partly cloudy', 'icon': '//cdn.weatherapi.com/weather/64x64/night/116.png', 'code': 1003}, 'wind_mph': 13.0, 'wind_kph': 20.9, 'wind_degree': 309, 'wind_dir': 'NW', 'pressure_mb': 1015.0, 'pressure_in': 29.96, 'precip_mm': 0.0, 'precip_in': 0.0, 'humidity': 82, 'cloud': 25, 'feelslike_c': 7.4, 'feelslike_f': 45.4, 'windchill_c': 7.3, 'windchill_f': 45.1, 'heatindex_c': 8.8, 'heatindex_f': 47.9, 'dewpoint_c': 6.1, 'dewpoint_f': 43.0, 'vis_km': 16.0, 'vis_miles': 9.0, 'uv': 0.0, 'gust_mph': 19.3, 'gust_kph': 31.0}}\"\u001b[39;49;00m,\u001b[37m\u001b[39;49;00m\n",
      "\u001b[37m            \u001b[39;49;00m\u001b[94m\"score\"\u001b[39;49;00m:\u001b[37m \u001b[39;49;00m\u001b[34m0.9522076\u001b[39;49;00m,\u001b[37m\u001b[39;49;00m\n",
      "\u001b[37m            \u001b[39;49;00m\u001b[94m\"raw_content\"\u001b[39;49;00m:\u001b[37m \u001b[39;49;00m\u001b[34mnull\u001b[39;49;00m\u001b[37m\u001b[39;49;00m\n",
      "\u001b[37m        \u001b[39;49;00m},\u001b[37m\u001b[39;49;00m\n",
      "\u001b[37m        \u001b[39;49;00m{\u001b[37m\u001b[39;49;00m\n",
      "\u001b[37m            \u001b[39;49;00m\u001b[94m\"title\"\u001b[39;49;00m:\u001b[37m \u001b[39;49;00m\u001b[33m\"Weather today - Menlo Park, CA\"\u001b[39;49;00m,\u001b[37m\u001b[39;49;00m\n",
      "\u001b[37m            \u001b[39;49;00m\u001b[94m\"url\"\u001b[39;49;00m:\u001b[37m \u001b[39;49;00m\u001b[33m\"https://www.weather-us.com/en/california-usa/menlo-park\"\u001b[39;49;00m,\u001b[37m\u001b[39;49;00m\n",
      "\u001b[37m            \u001b[39;49;00m\u001b[94m\"content\"\u001b[39;49;00m:\u001b[37m \u001b[39;49;00m\u001b[33m\"In Menlo Park, for the rest of Thursday, showers are forecasted early in the day, with the skies clearing as the day unfolds. Minimal precipitation is expected for today. The lowest temperature will be a cool 50\\u00b0F (10\\u00b0C). Sunrise was at 6:59 am and sunset at 7:28 pm; the daylight lasted for 12h and 29min.\"\u001b[39;49;00m,\u001b[37m\u001b[39;49;00m\n",
      "\u001b[37m            \u001b[39;49;00m\u001b[94m\"score\"\u001b[39;49;00m:\u001b[37m \u001b[39;49;00m\u001b[34m0.68874115\u001b[39;49;00m,\u001b[37m\u001b[39;49;00m\n",
      "\u001b[37m            \u001b[39;49;00m\u001b[94m\"raw_content\"\u001b[39;49;00m:\u001b[37m \u001b[39;49;00m\u001b[34mnull\u001b[39;49;00m\u001b[37m\u001b[39;49;00m\n",
      "\u001b[37m        \u001b[39;49;00m},\u001b[37m\u001b[39;49;00m\n",
      "\u001b[37m        \u001b[39;49;00m{\u001b[37m\u001b[39;49;00m\n",
      "\u001b[37m            \u001b[39;49;00m\u001b[94m\"title\"\u001b[39;49;00m:\u001b[37m \u001b[39;49;00m\u001b[33m\"Menlo Park, CA Hourly Weather Forecast | Weather Underground\"\u001b[39;49;00m,\u001b[37m\u001b[39;49;00m\n",
      "\u001b[37m            \u001b[39;49;00m\u001b[94m\"url\"\u001b[39;49;00m:\u001b[37m \u001b[39;49;00m\u001b[33m\"https://www.wunderground.com/hourly/us/ca/menlo-park/date/2025-4-1\"\u001b[39;49;00m,\u001b[37m\u001b[39;49;00m\n",
      "\u001b[37m            \u001b[39;49;00m\u001b[94m\"content\"\u001b[39;49;00m:\u001b[37m \u001b[39;49;00m\u001b[33m\"Current Weather for Popular Cities . San Francisco, CA warning 58 \\u00b0 F Mostly Cloudy; Manhattan, NY 61 \\u00b0 F Mostly Cloudy; Schiller Park, IL (60176) warning 74 \\u00b0 F Partly Cloudy; Boston, MA\"\u001b[39;49;00m,\u001b[37m\u001b[39;49;00m\n",
      "\u001b[37m            \u001b[39;49;00m\u001b[94m\"score\"\u001b[39;49;00m:\u001b[37m \u001b[39;49;00m\u001b[34m0.5482629\u001b[39;49;00m,\u001b[37m\u001b[39;49;00m\n",
      "\u001b[37m            \u001b[39;49;00m\u001b[94m\"raw_content\"\u001b[39;49;00m:\u001b[37m \u001b[39;49;00m\u001b[34mnull\u001b[39;49;00m\u001b[37m\u001b[39;49;00m\n",
      "\u001b[37m        \u001b[39;49;00m},\u001b[37m\u001b[39;49;00m\n",
      "\u001b[37m        \u001b[39;49;00m{\u001b[37m\u001b[39;49;00m\n",
      "\u001b[37m            \u001b[39;49;00m\u001b[94m\"title\"\u001b[39;49;00m:\u001b[37m \u001b[39;49;00m\u001b[33m\"10-Day Weather Forecast for Menlo Park, CA - The Weather Channel\"\u001b[39;49;00m,\u001b[37m\u001b[39;49;00m\n",
      "\u001b[37m            \u001b[39;49;00m\u001b[94m\"url\"\u001b[39;49;00m:\u001b[37m \u001b[39;49;00m\u001b[33m\"https://weather.com/weather/tenday/l/11c934eb83d56174a835cd2a815480aa66c466b5a6b949c56389964350ab4865\"\u001b[39;49;00m,\u001b[37m\u001b[39;49;00m\n",
      "\u001b[37m            \u001b[39;49;00m\u001b[94m\"content\"\u001b[39;49;00m:\u001b[37m \u001b[39;49;00m\u001b[33m\"Weather Forecasts Thu 06 | Day Fri 07 | Day Sat 08 | Day High near 65F. Sun 09 | Day Sun 09 | Night Cloudy skies early with showers later at night. Mon 10 | Day Mostly cloudy skies. Tue 11 | Day Mostly cloudy skies. Wed 12 | Day Low near 45F. Thu 13 | Day Rain showers early with some sunshine later in the day. Fri 14 | Day Cloudy with occasional rain showers. Sat 15 | Day Mostly cloudy. Sun 16 | Day Sun 16 | Night Mon 17 | Day Tue 18 | Day Wed 19 | Day Low near 45F. Winter Wellness Air Purifiers: How To Clean Your Air And Our Top Picks\"\u001b[39;49;00m,\u001b[37m\u001b[39;49;00m\n",
      "\u001b[37m            \u001b[39;49;00m\u001b[94m\"score\"\u001b[39;49;00m:\u001b[37m \u001b[39;49;00m\u001b[34m0.53050464\u001b[39;49;00m,\u001b[37m\u001b[39;49;00m\n",
      "\u001b[37m            \u001b[39;49;00m\u001b[94m\"raw_content\"\u001b[39;49;00m:\u001b[37m \u001b[39;49;00m\u001b[34mnull\u001b[39;49;00m\u001b[37m\u001b[39;49;00m\n",
      "\u001b[37m        \u001b[39;49;00m},\u001b[37m\u001b[39;49;00m\n",
      "\u001b[37m        \u001b[39;49;00m{\u001b[37m\u001b[39;49;00m\n",
      "\u001b[37m            \u001b[39;49;00m\u001b[94m\"title\"\u001b[39;49;00m:\u001b[37m \u001b[39;49;00m\u001b[33m\"Weather Today for Menlo Park, CA | AccuWeather\"\u001b[39;49;00m,\u001b[37m\u001b[39;49;00m\n",
      "\u001b[37m            \u001b[39;49;00m\u001b[94m\"url\"\u001b[39;49;00m:\u001b[37m \u001b[39;49;00m\u001b[33m\"https://www.accuweather.com/en/us/menlo-park/94025/weather-today/337153\"\u001b[39;49;00m,\u001b[37m\u001b[39;49;00m\n",
      "\u001b[37m            \u001b[39;49;00m\u001b[94m\"content\"\u001b[39;49;00m:\u001b[37m \u001b[39;49;00m\u001b[33m\"Everything you need to know about today's weather in Menlo Park, CA. High/Low, Precipitation Chances, Sunrise/Sunset, and today's Temperature History.\"\u001b[39;49;00m,\u001b[37m\u001b[39;49;00m\n",
      "\u001b[37m            \u001b[39;49;00m\u001b[94m\"score\"\u001b[39;49;00m:\u001b[37m \u001b[39;49;00m\u001b[34m0.43136916\u001b[39;49;00m,\u001b[37m\u001b[39;49;00m\n",
      "\u001b[37m            \u001b[39;49;00m\u001b[94m\"raw_content\"\u001b[39;49;00m:\u001b[37m \u001b[39;49;00m\u001b[34mnull\u001b[39;49;00m\u001b[37m\u001b[39;49;00m\n",
      "\u001b[37m        \u001b[39;49;00m}\u001b[37m\u001b[39;49;00m\n",
      "\u001b[37m    \u001b[39;49;00m],\u001b[37m\u001b[39;49;00m\n",
      "\u001b[37m    \u001b[39;49;00m\u001b[94m\"response_time\"\u001b[39;49;00m:\u001b[37m \u001b[39;49;00m\u001b[34m2.68\u001b[39;49;00m\u001b[37m\u001b[39;49;00m\n",
      "}\u001b[37m\u001b[39;49;00m\n",
      "\n"
     ]
    }
   ],
   "source": [
    "from tavily import TavilyClient\n",
    "tavily_client = TavilyClient(api_key=TAVILY_API_KEY)\n",
    "\n",
    "result = tavily_client.search(\"current weather in Menlo Park, California\")\n",
    "cprint(result)"
   ]
  },
  {
   "cell_type": "markdown",
   "metadata": {},
   "source": [
    "### Reprompting Llama with search tool response"
   ]
  },
  {
   "cell_type": "code",
   "execution_count": 11,
   "metadata": {
    "height": 46
   },
   "outputs": [
    {
     "name": "stdout",
     "output_type": "stream",
     "text": [
      "{'location': {'name': 'Menlo Park', 'region': 'California', 'country': 'United States of America', 'lat': 37.4539, 'lon': -122.1811, 'tz_id': 'America/Los_Angeles', 'localtime_epoch': 1743579076, 'localtime': '2025-04-02 00:31'}, 'current': {'last_updated_epoch': 1743579000, 'last_updated': '2025-04-02 00:30', 'temp_c': 10.1, 'temp_f': 50.2, 'is_day': 0, 'condition': {'text': 'Partly cloudy', 'icon': '//cdn.weatherapi.com/weather/64x64/night/116.png', 'code': 1003}, 'wind_mph': 13.0, 'wind_kph': 20.9, 'wind_degree': 309, 'wind_dir': 'NW', 'pressure_mb': 1015.0, 'pressure_in': 29.96, 'precip_mm': 0.0, 'precip_in': 0.0, 'humidity': 82, 'cloud': 25, 'feelslike_c': 7.4, 'feelslike_f': 45.4, 'windchill_c': 7.3, 'windchill_f': 45.1, 'heatindex_c': 8.8, 'heatindex_f': 47.9, 'dewpoint_c': 6.1, 'dewpoint_f': 43.0, 'vis_km': 16.0, 'vis_miles': 9.0, 'uv': 0.0, 'gust_mph': 19.3, 'gust_kph': 31.0}}\n"
     ]
    }
   ],
   "source": [
    "search_result = result[\"results\"][0][\"content\"]\n",
    "print(search_result)"
   ]
  },
  {
   "cell_type": "code",
   "execution_count": 12,
   "metadata": {
    "height": 215
   },
   "outputs": [
    {
     "name": "stdout",
     "output_type": "stream",
     "text": [
      "<|begin_of_text|><|start_header_id|>system<|end_header_id|>\n",
      "\n",
      "Environment: ipython\n",
      "Tools: brave_search, wolfram_alpha\n",
      "Cutting Knowledge Date: December 2023\n",
      "Today Date: 02 April 2025\n",
      "<|eot_id|><|start_header_id|>user<|end_header_id|>\n",
      "What is the current weather in Menlo Park, California?\n",
      "\n",
      "<|eot_id|><|start_header_id|>assistant<|end_header_id|>\n",
      "\n",
      "<|python_tag|>\n",
      "\n",
      "I'm not able to access real-time information. However, I can suggest some ways for you to find the current weather in Menlo Park, California:\n",
      "\n",
      "1. Check online weather websites: You can check websites like weather.com, accuweather.com, or wunderground.com for the current weather in Menlo Park, California.\n",
      "2. Use a search engine: You can type \"current weather in Menlo Park, California\" in a search engine like Google, and it will show you the current weather conditions.\n",
      "3. Check a weather app: You can download a weather app on your smartphone, such as Dark Sky or Weather Underground, which can provide you with the current weather conditions in Menlo Park, California.\n",
      "\n",
      "Please note that the weather can change quickly, so it's always a good idea to check the current weather conditions before heading out.<|eom_id|>\n",
      "<|start_header_id|>ipython<|end_header_id|>\n",
      "\n",
      "{'location': {'name': 'Menlo Park', 'region': 'California', 'country': 'United States of America', 'lat': 37.4539, 'lon': -122.1811, 'tz_id': 'America/Los_Angeles', 'localtime_epoch': 1743579076, 'localtime': '2025-04-02 00:31'}, 'current': {'last_updated_epoch': 1743579000, 'last_updated': '2025-04-02 00:30', 'temp_c': 10.1, 'temp_f': 50.2, 'is_day': 0, 'condition': {'text': 'Partly cloudy', 'icon': '//cdn.weatherapi.com/weather/64x64/night/116.png', 'code': 1003}, 'wind_mph': 13.0, 'wind_kph': 20.9, 'wind_degree': 309, 'wind_dir': 'NW', 'pressure_mb': 1015.0, 'pressure_in': 29.96, 'precip_mm': 0.0, 'precip_in': 0.0, 'humidity': 82, 'cloud': 25, 'feelslike_c': 7.4, 'feelslike_f': 45.4, 'windchill_c': 7.3, 'windchill_f': 45.1, 'heatindex_c': 8.8, 'heatindex_f': 47.9, 'dewpoint_c': 6.1, 'dewpoint_f': 43.0, 'vis_km': 16.0, 'vis_miles': 9.0, 'uv': 0.0, 'gust_mph': 19.3, 'gust_kph': 31.0}}<|eot_id|><|start_header_id|>assistant<|end_header_id|>\n",
      "\n"
     ]
    }
   ],
   "source": [
    "prompt = tool_system_prompt + f\"\"\"<|eot_id|><|start_header_id|>user<|end_header_id|>\n",
    "What is the current weather in Menlo Park, California?\n",
    "\n",
    "<|eot_id|><|start_header_id|>assistant<|end_header_id|>\n",
    "\n",
    "<|python_tag|>{response}<|eom_id|>\n",
    "<|start_header_id|>ipython<|end_header_id|>\n",
    "\n",
    "{search_result}<|eot_id|><|start_header_id|>assistant<|end_header_id|>\n",
    "\"\"\"\n",
    "print(prompt)"
   ]
  },
  {
   "cell_type": "code",
   "execution_count": 13,
   "metadata": {
    "height": 46
   },
   "outputs": [
    {
     "name": "stdout",
     "output_type": "stream",
     "text": [
      "The current weather in Menlo Park, California is partly cloudy with a temperature of 10.1°C (50.2°F) and a wind speed of 20.9 km/h (13.0 mph) from the northwest. The humidity is 82% and the pressure is 1015 mb. There is no precipitation and the visibility is 16 km (9.9 miles). The UV index is 0.0 and the wind gust is 31.0 km/h (19.3 mph).\n"
     ]
    }
   ],
   "source": [
    "response = llama31(prompt)\n",
    "print(response)"
   ]
  },
  {
   "cell_type": "markdown",
   "metadata": {},
   "source": [
    "## Using the higher-level message"
   ]
  },
  {
   "cell_type": "code",
   "execution_count": 14,
   "metadata": {
    "height": 114
   },
   "outputs": [],
   "source": [
    "system_prompt_content = f\"\"\"\n",
    "Environment: ipython\n",
    "Tools: brave_search, wolfram_alpha\n",
    "Cutting Knowledge Date: December 2023\n",
    "Today Date: {formatted_date}\n",
    "\"\"\""
   ]
  },
  {
   "cell_type": "code",
   "execution_count": 15,
   "metadata": {
    "height": 96
   },
   "outputs": [],
   "source": [
    "messages = [\n",
    "    {\"role\": \"system\", \"content\":  system_prompt_content},\n",
    "    {\"role\": \"user\",   \"content\": \"What is the current weather in Menlo Park, California?\"}\n",
    "  ]"
   ]
  },
  {
   "cell_type": "code",
   "execution_count": 16,
   "metadata": {
    "height": 46
   },
   "outputs": [
    {
     "name": "stdout",
     "output_type": "stream",
     "text": [
      "brave_search.call(query=\"current weather in Menlo Park, California\")\n"
     ]
    }
   ],
   "source": [
    "response = llama31(messages)\n",
    "print(response)"
   ]
  },
  {
   "cell_type": "code",
   "execution_count": 17,
   "metadata": {
    "height": 130
   },
   "outputs": [],
   "source": [
    "messages = [\n",
    "    {\"role\": \"system\",     \"content\":  system_prompt_content},\n",
    "    {\"role\": \"user\",       \"content\": \"What is the current weather in Menlo Park, California?\"},\n",
    "    {\"role\": \"assistant\",  \"content\": response},\n",
    "    {\"role\": \"ipython\",    \"content\": search_result}\n",
    "  ]"
   ]
  },
  {
   "cell_type": "code",
   "execution_count": 18,
   "metadata": {
    "height": 46
   },
   "outputs": [
    {
     "name": "stdout",
     "output_type": "stream",
     "text": [
      "The current weather in Menlo Park, California is partly cloudy with a temperature of 10.1°C (50.2°F) and a wind speed of 20.9 km/h (13.0 mph) from the northwest. The humidity is 82% and the pressure is 1015.0 mb (29.96 in). There is no precipitation and the visibility is 16.0 km (9.0 miles). The UV index is 0.0 and the wind gust is 31.0 km/h (19.3 mph).\n"
     ]
    }
   ],
   "source": [
    "response = llama31(messages)\n",
    "print(response)"
   ]
  },
  {
   "cell_type": "markdown",
   "metadata": {},
   "source": [
    "## The Wolfram Alpha tool"
   ]
  },
  {
   "cell_type": "code",
   "execution_count": 19,
   "metadata": {
    "height": 45
   },
   "outputs": [],
   "source": [
    "math_problem = \"Can you help me solve this equation: x^3 - 2x^2 - x + 2 = 0?\""
   ]
  },
  {
   "cell_type": "code",
   "execution_count": 20,
   "metadata": {
    "height": 96
   },
   "outputs": [],
   "source": [
    "messages = [\n",
    "    {\"role\": \"system\",  \"content\": system_prompt_content},\n",
    "    {\"role\": \"user\",    \"content\": math_problem}\n",
    "]"
   ]
  },
  {
   "cell_type": "code",
   "execution_count": null,
   "metadata": {
    "height": 46
   },
   "outputs": [],
   "source": [
    "response = llama31(messages)\n",
    "print(response)"
   ]
  },
  {
   "cell_type": "markdown",
   "metadata": {},
   "source": [
    "### Calling the Wolfram Alpha tool"
   ]
  },
  {
   "cell_type": "code",
   "execution_count": null,
   "metadata": {
    "height": 79
   },
   "outputs": [],
   "source": [
    "from utils import wolfram_alpha\n",
    "tool_result = wolfram_alpha(\"solve x^3 - 2x^2 - x + 2 = 0\")\n",
    "print(tool_result)"
   ]
  },
  {
   "cell_type": "markdown",
   "metadata": {},
   "source": [
    "### Checking the result"
   ]
  },
  {
   "cell_type": "code",
   "execution_count": null,
   "metadata": {
    "height": 147
   },
   "outputs": [],
   "source": [
    "from sympy import symbols, Eq, solve\n",
    "\n",
    "x = symbols('x')                           # Define the variable\n",
    "equation = Eq(x**3 - 2*x**2 - 1*x + 2, 0) # Define the equation\n",
    "solution = solve(equation, x)              # Solve the equation\n",
    "\n",
    "print(solution)"
   ]
  },
  {
   "cell_type": "markdown",
   "metadata": {},
   "source": [
    "### Reprompting Llama with Wolfram Alpha tool response"
   ]
  },
  {
   "cell_type": "code",
   "execution_count": null,
   "metadata": {
    "height": 130
   },
   "outputs": [],
   "source": [
    "messages = [\n",
    "    {\"role\": \"system\", \"content\": system_prompt_content},\n",
    "    {\"role\": \"user\",      \"content\": math_problem},\n",
    "    {\"role\": \"assistant\", \"content\": response},\n",
    "    {\"role\": \"ipython\",   \"content\": tool_result}\n",
    "]"
   ]
  },
  {
   "cell_type": "code",
   "execution_count": null,
   "metadata": {
    "height": 46
   },
   "outputs": [],
   "source": [
    "response = llama31(messages)\n",
    "print(response)"
   ]
  },
  {
   "cell_type": "markdown",
   "metadata": {},
   "source": [
    "## The code interpreter built-in tool"
   ]
  },
  {
   "cell_type": "code",
   "execution_count": null,
   "metadata": {
    "height": 113
   },
   "outputs": [],
   "source": [
    "loan_question = (\n",
    "    \"How much is the monthly payment, total payment, \"\n",
    "    \"and total interest paid for a 30 year mortgage of $1M \"\n",
    "    \"at a fixed rate of 6% with a 20% down payment?\"\n",
    ")"
   ]
  },
  {
   "cell_type": "code",
   "execution_count": null,
   "metadata": {
    "height": 96
   },
   "outputs": [],
   "source": [
    "messages = [\n",
    "    {\"role\": \"system\",     \"content\": system_prompt_content},\n",
    "    {\"role\": \"user\",       \"content\": loan_question},\n",
    "  ]"
   ]
  },
  {
   "cell_type": "code",
   "execution_count": null,
   "metadata": {
    "height": 46
   },
   "outputs": [],
   "source": [
    "response = llama31(messages)\n",
    "print(response)"
   ]
  },
  {
   "cell_type": "markdown",
   "metadata": {},
   "source": [
    "# Calculate loan payments"
   ]
  },
  {
   "cell_type": "code",
   "execution_count": null,
   "metadata": {
    "height": 198
   },
   "outputs": [],
   "source": [
    "from utils import calculate_loan\n",
    "monthly_payment, total_payment, total_interest_paid = calculate_loan(\n",
    "    loan_amount = 1000000, \n",
    "    annual_interest_rate = 0.06, \n",
    "    loan_term = 30, \n",
    "    down_payment = 200000)\n",
    "\n",
    "print(f\"Monthly payment: ${(monthly_payment)}\")\n",
    "print(f\"Total payment: ${(total_payment)}\")\n",
    "print(f\"Total interest paid: ${(total_interest_paid)}\")"
   ]
  },
  {
   "cell_type": "markdown",
   "metadata": {},
   "source": [
    "## Generating the code in Java"
   ]
  },
  {
   "cell_type": "code",
   "execution_count": null,
   "metadata": {
    "height": 113
   },
   "outputs": [],
   "source": [
    "messages = [\n",
    "    {\"role\":    \"system\",     \n",
    "     \"content\": system_prompt_content + \"\\nGenerate the code in Java.\"},\n",
    "    {\"role\":    \"user\",       \"content\": loan_question},\n",
    "  ]"
   ]
  },
  {
   "cell_type": "code",
   "execution_count": null,
   "metadata": {
    "height": 46
   },
   "outputs": [],
   "source": [
    "response = llama31(messages)\n",
    "print(response)"
   ]
  },
  {
   "cell_type": "markdown",
   "metadata": {},
   "source": [
    "### Reprompting Llama with Code Interpreter tool response"
   ]
  },
  {
   "cell_type": "code",
   "execution_count": null,
   "metadata": {
    "height": 97
   },
   "outputs": [],
   "source": [
    "code_interpreter_tool_response=\"\"\"\n",
    "Monthly payment: $4796\n",
    "Total payment: $1726705\n",
    "Total interest paid: $926705\n",
    "\"\"\""
   ]
  },
  {
   "cell_type": "code",
   "execution_count": null,
   "metadata": {
    "height": 130
   },
   "outputs": [],
   "source": [
    "messages = [\n",
    "    {\"role\": \"system\", \"content\":  system_prompt_content},\n",
    "    {\"role\": \"user\",      \"content\": loan_question},\n",
    "    {\"role\": \"assistant\", \"content\": response},\n",
    "    {\"role\": \"ipython\",   \"content\": code_interpreter_tool_response}\n",
    "  ]"
   ]
  },
  {
   "cell_type": "code",
   "execution_count": null,
   "metadata": {
    "height": 46
   },
   "outputs": [],
   "source": [
    "response = llama31(messages)\n",
    "print(response)"
   ]
  },
  {
   "cell_type": "markdown",
   "metadata": {},
   "source": [
    "## Llama 3.1 custom tool calling"
   ]
  },
  {
   "cell_type": "code",
   "execution_count": null,
   "metadata": {
    "height": 147
   },
   "outputs": [],
   "source": [
    "from utils import trending_songs, get_boiling_point\n",
    "\n",
    "country = \"US\"\n",
    "top_num = 5\n",
    "top_songs = trending_songs(country, top_num)\n",
    "print(f\"Top {top_num} trending songs in {country}:\")\n",
    "print(top_songs)"
   ]
  },
  {
   "cell_type": "markdown",
   "metadata": {},
   "source": [
    "<p style=\"background-color:#fff6ff; padding:15px; border-width:3px; border-color:#efe6ef; border-style:solid; border-radius:6px\"> 💻 &nbsp; <b>Access <code>trending_songs()</code> in <code>utils.py</code> files:</b> 1) click on the <em>\"File\"</em> option on the top menu of the notebook and then 2) click on <em>\"Open\"</em>. For more help, please see the <em>\"Appendix - Tips and Help\"</em> Lesson.</p>"
   ]
  },
  {
   "cell_type": "markdown",
   "metadata": {},
   "source": [
    "## Prompt Llama 3.1 for custom tool call"
   ]
  },
  {
   "cell_type": "code",
   "execution_count": null,
   "metadata": {
    "height": 555
   },
   "outputs": [],
   "source": [
    "user_prompt = \"\"\"\n",
    "Answer the user's question by using the following functions if needed.\n",
    "If none of the functions can be used, please say so.\n",
    "Functions (in JSON format):\n",
    "{\n",
    "    \"type\": \"function\", \"function\": {\n",
    "        \"name\": \"get_boiling_point\",\n",
    "        \"description\": \"Get the boiling point of a liquid\",\n",
    "        \"parameters\": {\n",
    "            \"type\": \"object\", \"properties\": [\n",
    "                {\"liquid_name\": {\"type\": \"object\", \"description\": \"name of the liquid\"}},\n",
    "                {\"celsius\": {\"type\": \"object\", \"description\": \"whether to use celsius\"}}\n",
    "            ], \"required\": [\"liquid_name\"]\n",
    "        }\n",
    "    }\n",
    "}\n",
    "{\n",
    "    \"type\": \"function\", \"function\": {\n",
    "        \"name\": \"trending_songs\",\n",
    "        \"description\": \"Returns the trending songs on a Music site\",\n",
    "        \"parameters\": {\n",
    "            \"type\": \"object\", \"properties\": [\n",
    "                {\"country\": {\"type\": \"object\", \"description\": \"country to return trending songs for\"}},\n",
    "                {\"n\": {\"type\": \"object\", \"description\": \"The number of songs to return\"}}\n",
    "            ], \"required\": [\"country\"]\n",
    "        }\n",
    "    }\n",
    "}\n",
    "\n",
    "Question: Can you check the top 5 trending songs in US?\n",
    "\"\"\""
   ]
  },
  {
   "cell_type": "code",
   "execution_count": null,
   "metadata": {
    "height": 165
   },
   "outputs": [],
   "source": [
    "messages = [\n",
    "    {\n",
    "      \"role\": \"system\", \"content\":  f\"\"\"\n",
    "Environment: ipython\n",
    "Cutting Knowledge Date: December 2023\n",
    "Today Date: {formatted_date}\n",
    "\"\"\"},\n",
    "    {\"role\": \"user\", \"content\": user_prompt}\n",
    "  ]"
   ]
  },
  {
   "cell_type": "code",
   "execution_count": null,
   "metadata": {
    "height": 46
   },
   "outputs": [],
   "source": [
    "result = llama31(messages,405)\n",
    "print(result)"
   ]
  },
  {
   "cell_type": "markdown",
   "metadata": {},
   "source": [
    "### Calling the custom tool"
   ]
  },
  {
   "cell_type": "code",
   "execution_count": null,
   "metadata": {
    "height": 62
   },
   "outputs": [],
   "source": [
    "custom_tools = {\"trending_songs\": trending_songs,\n",
    "                \"get_boiling_point\": get_boiling_point}"
   ]
  },
  {
   "cell_type": "code",
   "execution_count": null,
   "metadata": {
    "height": 80
   },
   "outputs": [],
   "source": [
    "res = json.loads(result)\n",
    "function_name = res['name']\n",
    "parameters = list(res['parameters'].values())\n",
    "function_name, parameters"
   ]
  },
  {
   "cell_type": "code",
   "execution_count": null,
   "metadata": {
    "height": 62
   },
   "outputs": [],
   "source": [
    "tool_result = custom_tools[function_name](*parameters)\n",
    "tool_result"
   ]
  },
  {
   "cell_type": "markdown",
   "metadata": {},
   "source": [
    "### Reprompting Llama with custom tool call result"
   ]
  },
  {
   "cell_type": "code",
   "execution_count": null,
   "metadata": {
    "height": 215
   },
   "outputs": [],
   "source": [
    "messages = [\n",
    "    {\n",
    "      \"role\": \"system\", \"content\":  f\"\"\"\n",
    "Environment: ipython\n",
    "Cutting Knowledge Date: December 2023\n",
    "Today Date: {formatted_date}\n",
    "\"\"\"},\n",
    "    {\"role\": \"user\", \"content\": user_prompt},\n",
    "    {\"role\": \"assistant\", \"content\": result},\n",
    "    {\"role\": \"ipython\", \"content\": ','.join(tool_result)}\n",
    "  ]"
   ]
  },
  {
   "cell_type": "code",
   "execution_count": null,
   "metadata": {
    "height": 46
   },
   "outputs": [],
   "source": [
    "response = llama31(messages, 70)\n",
    "print(response)"
   ]
  },
  {
   "cell_type": "code",
   "execution_count": null,
   "metadata": {
    "height": 29
   },
   "outputs": [],
   "source": []
  },
  {
   "cell_type": "code",
   "execution_count": null,
   "metadata": {
    "height": 29
   },
   "outputs": [],
   "source": []
  },
  {
   "cell_type": "code",
   "execution_count": null,
   "metadata": {
    "height": 29
   },
   "outputs": [],
   "source": []
  },
  {
   "cell_type": "code",
   "execution_count": null,
   "metadata": {
    "height": 29
   },
   "outputs": [],
   "source": []
  },
  {
   "cell_type": "code",
   "execution_count": null,
   "metadata": {
    "height": 29
   },
   "outputs": [],
   "source": []
  }
 ],
 "metadata": {
  "colab": {
   "provenance": [],
   "toc_visible": true
  },
  "kernelspec": {
   "display_name": "Python 3 (ipykernel)",
   "language": "python",
   "name": "python3"
  },
  "language_info": {
   "codemirror_mode": {
    "name": "ipython",
    "version": 3
   },
   "file_extension": ".py",
   "mimetype": "text/x-python",
   "name": "python",
   "nbconvert_exporter": "python",
   "pygments_lexer": "ipython3",
   "version": "3.11.9"
  }
 },
 "nbformat": 4,
 "nbformat_minor": 4
}
